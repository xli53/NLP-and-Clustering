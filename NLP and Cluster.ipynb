{
  "nbformat": 4,
  "nbformat_minor": 0,
  "metadata": {
    "colab": {
      "name": "Project 2_NLP.ipynb",
      "provenance": [],
      "collapsed_sections": []
    },
    "kernelspec": {
      "display_name": "Python 3",
      "language": "python",
      "name": "python3"
    }
  },
  "cells": [
    {
      "cell_type": "markdown",
      "metadata": {
        "id": "Xp3LTq59E8UK",
        "colab_type": "text"
      },
      "source": [
        "# Document Clustering and Topic Modeling"
      ]
    },
    {
      "cell_type": "markdown",
      "metadata": {
        "id": "mS-ob0Q8E8UM",
        "colab_type": "text"
      },
      "source": [
        "In this project, we use unsupervised learning models to cluster unlabeled documents into different groups, visualize the results and identify their latent topics/structures."
      ]
    },
    {
      "cell_type": "markdown",
      "metadata": {
        "id": "ZE7Qr-ccE8UN",
        "colab_type": "text"
      },
      "source": [
        "## Contents"
      ]
    },
    {
      "cell_type": "markdown",
      "metadata": {
        "id": "2S0waFW9E8UO",
        "colab_type": "text"
      },
      "source": [
        "Part 0: Set Up Google Drive Environment\n",
        "\n",
        "Part 1: Load Data\n",
        "\n",
        "Part 2: Tokenizing and Stemming\n",
        "\n",
        "Part 3: TF-IDF\n",
        "\n",
        "Part 4: K-means clustering\n",
        "*   Train Model\n",
        "*   Analyze Results\n",
        "*   Visualize Results using PCA\n",
        "\n",
        "Part 5: Topic Modeling: Latent Dirichlet Allocation"
      ]
    },
    {
      "cell_type": "markdown",
      "metadata": {
        "id": "5nXGAelMjJFq",
        "colab_type": "text"
      },
      "source": [
        "# Part 0: Setup Google Drive Environment"
      ]
    },
    {
      "cell_type": "code",
      "metadata": {
        "id": "6eT1n7oijJ8v",
        "colab_type": "code",
        "colab": {}
      },
      "source": [
        "!pip install -U -q PyDrive\n",
        "\n",
        "from pydrive.auth import GoogleAuth\n",
        "from pydrive.drive import GoogleDrive\n",
        "from google.colab import auth\n",
        "from oauth2client.client import GoogleCredentials\n",
        "\n",
        "auth.authenticate_user()\n",
        "gauth = GoogleAuth()\n",
        "gauth.credentials = GoogleCredentials.get_application_default()\n",
        "drive = GoogleDrive(gauth)"
      ],
      "execution_count": 0,
      "outputs": []
    },
    {
      "cell_type": "code",
      "metadata": {
        "id": "0N2bb9S6jKGh",
        "colab_type": "code",
        "colab": {}
      },
      "source": [
        "#https://drive.google.com/open?id=1ITBoL32mzOGMi4hZy9EQsQPDkGzSyvcd\n",
        "file1 = drive.CreateFile({'id':'1ITBoL32mzOGMi4hZy9EQsQPDkGzSyvcd'}) # replace the id with id of file you want to access\n",
        "file1.GetContentFile('synopses_list_imdb.txt')\n",
        "#https://drive.google.com/open?id=122qMaFd_wMQ6F1mTbL1_vI3Vub91cKQP\n",
        "file2 = drive.CreateFile({'id':'122qMaFd_wMQ6F1mTbL1_vI3Vub91cKQP'}) # replace the id with id of file you want to access\n",
        "file2.GetContentFile('synopses_list_wiki.txt')  \n",
        "#https://drive.google.com/open?id=1R0CQ-0z0UMh04gnlh1YqxIMsawrASmtc\n",
        "file3 = drive.CreateFile({'id':'1R0CQ-0z0UMh04gnlh1YqxIMsawrASmtc'}) # replace the id with id of file you want to access\n",
        "file3.GetContentFile('title_list.txt')  "
      ],
      "execution_count": 0,
      "outputs": []
    },
    {
      "cell_type": "markdown",
      "metadata": {
        "id": "Nc9DK62BE8UP",
        "colab_type": "text"
      },
      "source": [
        "# Part 1: Load Data"
      ]
    },
    {
      "cell_type": "code",
      "metadata": {
        "id": "OjdBV8gGE8UQ",
        "colab_type": "code",
        "outputId": "3028e2be-cf7f-4ddc-a071-9ef5f730d221",
        "colab": {
          "base_uri": "https://localhost:8080/",
          "height": 102
        }
      },
      "source": [
        "import warnings\n",
        "warnings.filterwarnings('ignore')\n",
        "\n",
        "import numpy as np\n",
        "import pandas as pd\n",
        "import nltk\n",
        "#Regular Expression\n",
        "import re\n",
        "import os\n",
        "\n",
        "from sklearn import decomposition\n",
        "from sklearn.feature_extraction.text import TfidfVectorizer\n",
        "import matplotlib.pyplot as plt\n",
        "\n",
        "nltk.download('punkt')\n",
        "nltk.download('stopwords')"
      ],
      "execution_count": 0,
      "outputs": [
        {
          "output_type": "stream",
          "text": [
            "[nltk_data] Downloading package punkt to /root/nltk_data...\n",
            "[nltk_data]   Unzipping tokenizers/punkt.zip.\n",
            "[nltk_data] Downloading package stopwords to /root/nltk_data...\n",
            "[nltk_data]   Unzipping corpora/stopwords.zip.\n"
          ],
          "name": "stdout"
        },
        {
          "output_type": "execute_result",
          "data": {
            "text/plain": [
              "True"
            ]
          },
          "metadata": {
            "tags": []
          },
          "execution_count": 3
        }
      ]
    },
    {
      "cell_type": "markdown",
      "metadata": {
        "id": "gVsLtiVfE8UU",
        "colab_type": "text"
      },
      "source": [
        "Read data from files. In summary, we have 100 titles and 100 synoposes (combined from imdb and wiki)."
      ]
    },
    {
      "cell_type": "code",
      "metadata": {
        "id": "wiGJ0f_gE8UV",
        "colab_type": "code",
        "colab": {}
      },
      "source": [
        "#import three lists: titles and wikipedia synopses\n",
        "titles = open('title_list.txt').read().split('\\n')\n",
        "titles = titles[:100] #ensures that only the first 100 are read in\n",
        "\n",
        "#The wiki synopses and imdb synopses of each movie is seperated by the keywords \"BREAKS HERE\". \n",
        "#Each synoposes may consist of multiple paragraphs.\n",
        "synopses_wiki = open('synopses_list_wiki.txt').read().split('\\n BREAKS HERE')\n",
        "synopses_wiki = synopses_wiki[:100]\n",
        "\n",
        "synopses_imdb = open('synopses_list_imdb.txt').read().split('\\n BREAKS HERE')\n",
        "synopses_imdb = synopses_imdb[:100]\n",
        "\n",
        "#Combine imdb and wiki to get full synoposes for the top 100 movies. \n",
        "synopses = []\n",
        "for i in range(len(synopses_wiki)):\n",
        "    item = synopses_wiki[i] + synopses_imdb[i]\n",
        "    synopses.append(item)\n",
        "    \n",
        "#Because these synopses have already been ordered in popularity order, \n",
        "#we just need to generate a list of ordered numbers for future usage.\n",
        "ranks = range(len(titles))"
      ],
      "execution_count": 0,
      "outputs": []
    },
    {
      "cell_type": "markdown",
      "metadata": {
        "id": "iQ4KGnVeE8UX",
        "colab_type": "text"
      },
      "source": [
        "# Part 2: Tokenizing and Stemming"
      ]
    },
    {
      "cell_type": "markdown",
      "metadata": {
        "collapsed": true,
        "id": "GHHIaFATE8UY",
        "colab_type": "text"
      },
      "source": [
        "Load stopwords and stemmer function from NLTK library.\n",
        "Stop words are words like \"a\", \"the\", or \"in\" which don't convey significant meaning.\n",
        "Stemming is the process of breaking a word down into its root."
      ]
    },
    {
      "cell_type": "code",
      "metadata": {
        "id": "3gSwiUBRE8UY",
        "colab_type": "code",
        "outputId": "d8dfd867-c9ba-4277-c580-1329c6ce9646",
        "colab": {
          "base_uri": "https://localhost:8080/",
          "height": 51
        }
      },
      "source": [
        "# Use nltk's English stopwords.\n",
        "stopwords = nltk.corpus.stopwords.words('english')\n",
        "\n",
        "print (\"We use \" + str(len(stopwords)) + \" stop-words from nltk library.\")\n",
        "print (stopwords[:10])"
      ],
      "execution_count": 0,
      "outputs": [
        {
          "output_type": "stream",
          "text": [
            "We use 179 stop-words from nltk library.\n",
            "['i', 'me', 'my', 'myself', 'we', 'our', 'ours', 'ourselves', 'you', \"you're\"]\n"
          ],
          "name": "stdout"
        }
      ]
    },
    {
      "cell_type": "code",
      "metadata": {
        "id": "e50130X8E8Uc",
        "colab_type": "code",
        "colab": {}
      },
      "source": [
        "from nltk.stem.snowball import SnowballStemmer\n",
        "stemmer = SnowballStemmer(\"english\")\n",
        "\n",
        "def tokenization_and_stemming(text):\n",
        "    tokens = [word.lower() for sent in nltk.sent_tokenize(text) for word in nltk.word_tokenize(sent) if word not in stopwords]\n",
        "    # e.g. In the case of \"she looked at her father's arm 78.\", tokens = ['looked', 'father', \"'s\", 'arm']\n",
        "#     tokens=[]\n",
        "#     for sent in nltk.sent_tokenize(text):\n",
        "#         for word in nltk.word_tokenize(sent):\n",
        "#             if word not in stopwords:\n",
        "#                 tokens.append(word);   \n",
        "    filtered_tokens = []\n",
        "    # filter out any tokens not containing letters (e.g., numeric tokens, raw punctuation)\n",
        "    for token in tokens:\n",
        "        if re.search('[a-zA-Z]', token):\n",
        "            filtered_tokens.append(token)\n",
        "    stems = [stemmer.stem(t) for t in filtered_tokens]\n",
        "    return stems\n",
        "\n",
        "def tokenization(text):\n",
        "    tokens = [word.lower() for sent in nltk.sent_tokenize(text) for word in nltk.word_tokenize(sent) if word not in stopwords]\n",
        "    filtered_tokens = []\n",
        "    for token in tokens:\n",
        "        if re.search('[a-zA-Z]', token):\n",
        "            filtered_tokens.append(token)\n",
        "    return filtered_tokens"
      ],
      "execution_count": 0,
      "outputs": []
    },
    {
      "cell_type": "code",
      "metadata": {
        "id": "BwbA6hETE8Uf",
        "colab_type": "code",
        "outputId": "bd723e4a-9118-4efa-8a6d-81d8ca6529c3",
        "colab": {
          "base_uri": "https://localhost:8080/",
          "height": 51
        }
      },
      "source": [
        "print(tokenization(\"she looked at her father's arm 78.\"))\n",
        "print(tokenization_and_stemming(\"she looked at her father's arm 78.\"))"
      ],
      "execution_count": 0,
      "outputs": [
        {
          "output_type": "stream",
          "text": [
            "['looked', 'father', \"'s\", 'arm']\n",
            "['look', 'father', \"'s\", 'arm']\n"
          ],
          "name": "stdout"
        }
      ]
    },
    {
      "cell_type": "markdown",
      "metadata": {
        "id": "WtDXMCeME8Uh",
        "colab_type": "text"
      },
      "source": [
        "Use our defined functions to analyze (i.e. tokenize, stem) our synoposes."
      ]
    },
    {
      "cell_type": "code",
      "metadata": {
        "id": "CNtXZ3RlE8Ui",
        "colab_type": "code",
        "colab": {}
      },
      "source": [
        "docs_stemmed = []\n",
        "docs_tokenized = []\n",
        "for i in synopses:\n",
        "    tokenized_and_stemmed_results = tokenization_and_stemming(i)\n",
        "    docs_stemmed.extend(tokenized_and_stemmed_results)\n",
        "    \n",
        "    tokenized_results = tokenization(i)\n",
        "    docs_tokenized.extend(tokenized_results)"
      ],
      "execution_count": 0,
      "outputs": []
    },
    {
      "cell_type": "markdown",
      "metadata": {
        "id": "Kj7JZxnpE8Uk",
        "colab_type": "text"
      },
      "source": [
        "Create a mapping from stemmed words to original tokenized words for result interpretation."
      ]
    },
    {
      "cell_type": "code",
      "metadata": {
        "id": "uoTp63fME8Ul",
        "colab_type": "code",
        "outputId": "8d3e5208-8c00-4172-8ff2-30910c6e44cb",
        "colab": {
          "base_uri": "https://localhost:8080/",
          "height": 34
        }
      },
      "source": [
        "vocab_frame_dict = {docs_stemmed[x]:docs_tokenized[x] for x in range(len(docs_stemmed))}\n",
        "print (vocab_frame_dict['angel'])"
      ],
      "execution_count": 0,
      "outputs": [
        {
          "output_type": "stream",
          "text": [
            "angeles\n"
          ],
          "name": "stdout"
        }
      ]
    },
    {
      "cell_type": "markdown",
      "metadata": {
        "collapsed": true,
        "id": "QAWdFqL5E8Uo",
        "colab_type": "text"
      },
      "source": [
        "# Part 3: TF-IDF"
      ]
    },
    {
      "cell_type": "code",
      "metadata": {
        "id": "k-XH7R4pE8Up",
        "colab_type": "code",
        "outputId": "286a1ba2-2efd-4f5a-c5c2-fab7f8d320bb",
        "colab": {
          "base_uri": "https://localhost:8080/",
          "height": 34
        }
      },
      "source": [
        "# define vectorizer parameters\n",
        "tfidf_model = TfidfVectorizer(max_df=0.8, max_features=2000,\n",
        "                                 min_df=0.2, stop_words='english',\n",
        "                                 use_idf=True, tokenizer=tokenization_and_stemming, ngram_range=(1,1))\n",
        "# ngram_range(min, max): The lower and upper boundary of the range of n-values for different n-grams to be extracted. \n",
        "# All values of n such that min_n <= n <= max_n will be used.\n",
        " \n",
        "tfidf_matrix = tfidf_model.fit_transform(synopses) # fit the vectorizer to synopses\n",
        "print (\"In total, there are \" + str(tfidf_matrix.shape[0]) + \\\n",
        "      \" synoposes and \" + str(tfidf_matrix.shape[1]) + \" terms.\")"
      ],
      "execution_count": 0,
      "outputs": [
        {
          "output_type": "stream",
          "text": [
            "In total, there are 100 synoposes and 538 terms.\n"
          ],
          "name": "stdout"
        }
      ]
    },
    {
      "cell_type": "code",
      "metadata": {
        "id": "fxW32UvrnskK",
        "colab_type": "code",
        "outputId": "f6b906ea-6f79-4d6f-ddb9-ba68fe219e63",
        "colab": {
          "base_uri": "https://localhost:8080/",
          "height": 374
        }
      },
      "source": [
        "tfidf_model.get_params()"
      ],
      "execution_count": 0,
      "outputs": [
        {
          "output_type": "execute_result",
          "data": {
            "text/plain": [
              "{'analyzer': 'word',\n",
              " 'binary': False,\n",
              " 'decode_error': 'strict',\n",
              " 'dtype': numpy.float64,\n",
              " 'encoding': 'utf-8',\n",
              " 'input': 'content',\n",
              " 'lowercase': True,\n",
              " 'max_df': 0.8,\n",
              " 'max_features': 2000,\n",
              " 'min_df': 0.2,\n",
              " 'ngram_range': (1, 1),\n",
              " 'norm': 'l2',\n",
              " 'preprocessor': None,\n",
              " 'smooth_idf': True,\n",
              " 'stop_words': 'english',\n",
              " 'strip_accents': None,\n",
              " 'sublinear_tf': False,\n",
              " 'token_pattern': '(?u)\\\\b\\\\w\\\\w+\\\\b',\n",
              " 'tokenizer': <function __main__.tokenization_and_stemming>,\n",
              " 'use_idf': True,\n",
              " 'vocabulary': None}"
            ]
          },
          "metadata": {
            "tags": []
          },
          "execution_count": 35
        }
      ]
    },
    {
      "cell_type": "markdown",
      "metadata": {
        "id": "whu1pCOiE8Uv",
        "colab_type": "text"
      },
      "source": [
        "Save the terms identified by TF-IDF."
      ]
    },
    {
      "cell_type": "code",
      "metadata": {
        "id": "lLdKk6n-E8Uw",
        "colab_type": "code",
        "colab": {}
      },
      "source": [
        "tf_selected_words = tfidf_model.get_feature_names()"
      ],
      "execution_count": 0,
      "outputs": []
    },
    {
      "cell_type": "code",
      "metadata": {
        "id": "k6JFh-1BE8Uy",
        "colab_type": "code",
        "outputId": "f9856edb-33ed-46c8-f071-5f20a6f0fcc9",
        "colab": {
          "base_uri": "https://localhost:8080/",
          "height": 51
        }
      },
      "source": [
        "tfidf_matrix"
      ],
      "execution_count": 0,
      "outputs": [
        {
          "output_type": "execute_result",
          "data": {
            "text/plain": [
              "<100x538 sparse matrix of type '<class 'numpy.float64'>'\n",
              "\twith 19003 stored elements in Compressed Sparse Row format>"
            ]
          },
          "metadata": {
            "tags": []
          },
          "execution_count": 37
        }
      ]
    },
    {
      "cell_type": "code",
      "metadata": {
        "scrolled": false,
        "id": "N46asAD7E8U1",
        "colab_type": "code",
        "outputId": "2218b7c9-4281-4658-e782-90ca583fb044",
        "colab": {
          "base_uri": "https://localhost:8080/",
          "height": 187
        }
      },
      "source": [
        "tf_selected_words[:10]"
      ],
      "execution_count": 0,
      "outputs": [
        {
          "output_type": "execute_result",
          "data": {
            "text/plain": [
              "[\"'d\",\n",
              " 'abandon',\n",
              " 'abl',\n",
              " 'accept',\n",
              " 'accid',\n",
              " 'accompani',\n",
              " 'accus',\n",
              " 'act',\n",
              " 'action',\n",
              " 'actual']"
            ]
          },
          "metadata": {
            "tags": []
          },
          "execution_count": 38
        }
      ]
    },
    {
      "cell_type": "markdown",
      "metadata": {
        "id": "1hPhgwSeE8U4",
        "colab_type": "text"
      },
      "source": [
        "# (Optional) Calculate Document Similarity"
      ]
    },
    {
      "cell_type": "code",
      "metadata": {
        "scrolled": true,
        "id": "NI1CN6m6E8U5",
        "colab_type": "code",
        "outputId": "e843f897-01bc-4b17-bce1-ecf38e78c040",
        "colab": {
          "base_uri": "https://localhost:8080/",
          "height": 170
        }
      },
      "source": [
        "from sklearn.metrics.pairwise import cosine_similarity\n",
        "cos_matrix = cosine_similarity(tfidf_matrix)\n",
        "print (cos_matrix)\n",
        "print (cos_matrix.shape[0])\n",
        "print (cos_matrix.shape[1])"
      ],
      "execution_count": 0,
      "outputs": [
        {
          "output_type": "stream",
          "text": [
            "[[1.         0.1996283  0.23342595 ... 0.3581728  0.3277855  0.17714484]\n",
            " [0.1996283  1.         0.26626879 ... 0.26910321 0.22856581 0.10870124]\n",
            " [0.23342595 0.26626879 1.         ... 0.27738654 0.24669308 0.12805055]\n",
            " ...\n",
            " [0.3581728  0.26910321 0.27738654 ... 1.         0.55040973 0.08151334]\n",
            " [0.3277855  0.22856581 0.24669308 ... 0.55040973 1.         0.13005234]\n",
            " [0.17714484 0.10870124 0.12805055 ... 0.08151334 0.13005234 1.        ]]\n",
            "100\n",
            "100\n"
          ],
          "name": "stdout"
        }
      ]
    },
    {
      "cell_type": "markdown",
      "metadata": {
        "id": "XEcwtws5E8U8",
        "colab_type": "text"
      },
      "source": [
        "# Part 4: K-means Clustering"
      ]
    },
    {
      "cell_type": "markdown",
      "metadata": {
        "id": "NYuJU98843VT",
        "colab_type": "text"
      },
      "source": [
        "## 4.1 Train Model"
      ]
    },
    {
      "cell_type": "code",
      "metadata": {
        "id": "67hT56KW3LrF",
        "colab_type": "code",
        "outputId": "11df9682-4cef-480e-e3f7-2b3af1e21b33",
        "colab": {
          "base_uri": "https://localhost:8080/",
          "height": 295
        }
      },
      "source": [
        "from sklearn.cluster import KMeans\n",
        "\n",
        "# Using Elbow Mmethod to find optimal cluster number\n",
        "wcss=[]\n",
        "for i in range(1,20):\n",
        "    km = KMeans(n_clusters= i, random_state=0) # , init='k-means++', random_state=0)\n",
        "    km.fit(tfidf_matrix)\n",
        "    wcss.append(km.inertia_)\n",
        "\n",
        "plt.plot(range(1,20), wcss)\n",
        "plt.title('The Elbow Method')\n",
        "plt.xlabel('Number of clusters')\n",
        "plt.ylabel('wcss')\n",
        "plt.show()"
      ],
      "execution_count": 0,
      "outputs": [
        {
          "output_type": "display_data",
          "data": {
            "image/png": "[encoded data removed]",
            "text/plain": [
              "<Figure size 432x288 with 1 Axes>"
            ]
          },
          "metadata": {
            "tags": []
          }
        }
      ]
    },
    {
      "cell_type": "code",
      "metadata": {
        "scrolled": true,
        "id": "7LJQ5i3IE8U9",
        "colab_type": "code",
        "outputId": "61577ce1-bc90-4dea-9ab1-d296c2f442e9",
        "colab": {
          "base_uri": "https://localhost:8080/",
          "height": 54
        }
      },
      "source": [
        "num_clusters = 5\n",
        "km = KMeans(n_clusters=num_clusters)\n",
        "km.fit(tfidf_matrix)\n",
        "clusters = km.labels_.tolist()\n",
        "print(clusters)"
      ],
      "execution_count": 0,
      "outputs": [
        {
          "output_type": "stream",
          "text": [
            "[3, 3, 3, 2, 1, 2, 3, 2, 3, 3, 1, 2, 2, 2, 2, 1, 3, 0, 1, 1, 3, 1, 2, 1, 1, 2, 4, 2, 2, 1, 2, 1, 2, 3, 3, 1, 1, 2, 1, 2, 3, 4, 2, 2, 3, 2, 3, 3, 3, 1, 3, 2, 2, 1, 2, 1, 2, 3, 3, 3, 2, 1, 1, 2, 2, 4, 2, 4, 2, 2, 2, 2, 2, 2, 3, 2, 2, 3, 3, 1, 4, 2, 2, 2, 2, 2, 2, 0, 1, 0, 1, 2, 2, 2, 1, 2, 2, 1, 2, 3]\n"
          ],
          "name": "stdout"
        }
      ]
    },
    {
      "cell_type": "markdown",
      "metadata": {
        "id": "fboVpRAfE8U-",
        "colab_type": "text"
      },
      "source": [
        "## 4.2 Analyze Result"
      ]
    },
    {
      "cell_type": "code",
      "metadata": {
        "id": "KGs4aIIME8U_",
        "colab_type": "code",
        "colab": {}
      },
      "source": [
        "# create DataFrame films from all of the input files.\n",
        "films = { 'title': titles, 'rank': ranks, 'synopsis': synopses, 'cluster': clusters}\n",
        "frame = pd.DataFrame(films, index = [clusters] , columns = ['rank', 'title', 'cluster'])"
      ],
      "execution_count": 0,
      "outputs": []
    },
    {
      "cell_type": "code",
      "metadata": {
        "id": "APmEUmm6E8VC",
        "colab_type": "code",
        "outputId": "c1363235-b706-4e86-ef41-4b80b0b6cfc4",
        "colab": {
          "base_uri": "https://localhost:8080/",
          "height": 359
        }
      },
      "source": [
        "frame.head(10)"
      ],
      "execution_count": 0,
      "outputs": [
        {
          "output_type": "execute_result",
          "data": {
            "text/html": [
              "<div>\n",
              "<style scoped>\n",
              "    .dataframe tbody tr th:only-of-type {\n",
              "        vertical-align: middle;\n",
              "    }\n",
              "\n",
              "    .dataframe tbody tr th {\n",
              "        vertical-align: top;\n",
              "    }\n",
              "\n",
              "    .dataframe thead th {\n",
              "        text-align: right;\n",
              "    }\n",
              "</style>\n",
              "<table border=\"1\" class=\"dataframe\">\n",
              "  <thead>\n",
              "    <tr style=\"text-align: right;\">\n",
              "      <th></th>\n",
              "      <th>rank</th>\n",
              "      <th>title</th>\n",
              "      <th>cluster</th>\n",
              "    </tr>\n",
              "  </thead>\n",
              "  <tbody>\n",
              "    <tr>\n",
              "      <th>3</th>\n",
              "      <td>0</td>\n",
              "      <td>The Godfather</td>\n",
              "      <td>3</td>\n",
              "    </tr>\n",
              "    <tr>\n",
              "      <th>3</th>\n",
              "      <td>1</td>\n",
              "      <td>The Shawshank Redemption</td>\n",
              "      <td>3</td>\n",
              "    </tr>\n",
              "    <tr>\n",
              "      <th>3</th>\n",
              "      <td>2</td>\n",
              "      <td>Schindler's List</td>\n",
              "      <td>3</td>\n",
              "    </tr>\n",
              "    <tr>\n",
              "      <th>2</th>\n",
              "      <td>3</td>\n",
              "      <td>Raging Bull</td>\n",
              "      <td>2</td>\n",
              "    </tr>\n",
              "    <tr>\n",
              "      <th>1</th>\n",
              "      <td>4</td>\n",
              "      <td>Casablanca</td>\n",
              "      <td>1</td>\n",
              "    </tr>\n",
              "    <tr>\n",
              "      <th>2</th>\n",
              "      <td>5</td>\n",
              "      <td>One Flew Over the Cuckoo's Nest</td>\n",
              "      <td>2</td>\n",
              "    </tr>\n",
              "    <tr>\n",
              "      <th>3</th>\n",
              "      <td>6</td>\n",
              "      <td>Gone with the Wind</td>\n",
              "      <td>3</td>\n",
              "    </tr>\n",
              "    <tr>\n",
              "      <th>2</th>\n",
              "      <td>7</td>\n",
              "      <td>Citizen Kane</td>\n",
              "      <td>2</td>\n",
              "    </tr>\n",
              "    <tr>\n",
              "      <th>3</th>\n",
              "      <td>8</td>\n",
              "      <td>The Wizard of Oz</td>\n",
              "      <td>3</td>\n",
              "    </tr>\n",
              "    <tr>\n",
              "      <th>3</th>\n",
              "      <td>9</td>\n",
              "      <td>Titanic</td>\n",
              "      <td>3</td>\n",
              "    </tr>\n",
              "  </tbody>\n",
              "</table>\n",
              "</div>"
            ],
            "text/plain": [
              "   rank                            title  cluster\n",
              "3     0                    The Godfather        3\n",
              "3     1         The Shawshank Redemption        3\n",
              "3     2                 Schindler's List        3\n",
              "2     3                      Raging Bull        2\n",
              "1     4                       Casablanca        1\n",
              "2     5  One Flew Over the Cuckoo's Nest        2\n",
              "3     6               Gone with the Wind        3\n",
              "2     7                     Citizen Kane        2\n",
              "3     8                 The Wizard of Oz        3\n",
              "3     9                          Titanic        3"
            ]
          },
          "metadata": {
            "tags": []
          },
          "execution_count": 43
        }
      ]
    },
    {
      "cell_type": "code",
      "metadata": {
        "id": "Ht1SbbOSE8VE",
        "colab_type": "code",
        "outputId": "ceb882af-2647-4c47-bc55-bdea13337a6c",
        "colab": {
          "base_uri": "https://localhost:8080/",
          "height": 221
        }
      },
      "source": [
        "print (\"Number of films included in each cluster:\")\n",
        "frame['cluster'].value_counts().to_frame()"
      ],
      "execution_count": 0,
      "outputs": [
        {
          "output_type": "stream",
          "text": [
            "Number of films included in each cluster:\n"
          ],
          "name": "stdout"
        },
        {
          "output_type": "execute_result",
          "data": {
            "text/html": [
              "<div>\n",
              "<style scoped>\n",
              "    .dataframe tbody tr th:only-of-type {\n",
              "        vertical-align: middle;\n",
              "    }\n",
              "\n",
              "    .dataframe tbody tr th {\n",
              "        vertical-align: top;\n",
              "    }\n",
              "\n",
              "    .dataframe thead th {\n",
              "        text-align: right;\n",
              "    }\n",
              "</style>\n",
              "<table border=\"1\" class=\"dataframe\">\n",
              "  <thead>\n",
              "    <tr style=\"text-align: right;\">\n",
              "      <th></th>\n",
              "      <th>cluster</th>\n",
              "    </tr>\n",
              "  </thead>\n",
              "  <tbody>\n",
              "    <tr>\n",
              "      <th>2</th>\n",
              "      <td>46</td>\n",
              "    </tr>\n",
              "    <tr>\n",
              "      <th>3</th>\n",
              "      <td>23</td>\n",
              "    </tr>\n",
              "    <tr>\n",
              "      <th>1</th>\n",
              "      <td>23</td>\n",
              "    </tr>\n",
              "    <tr>\n",
              "      <th>4</th>\n",
              "      <td>5</td>\n",
              "    </tr>\n",
              "    <tr>\n",
              "      <th>0</th>\n",
              "      <td>3</td>\n",
              "    </tr>\n",
              "  </tbody>\n",
              "</table>\n",
              "</div>"
            ],
            "text/plain": [
              "   cluster\n",
              "2       46\n",
              "3       23\n",
              "1       23\n",
              "4        5\n",
              "0        3"
            ]
          },
          "metadata": {
            "tags": []
          },
          "execution_count": 44
        }
      ]
    },
    {
      "cell_type": "code",
      "metadata": {
        "id": "E6M_9gxKE8VG",
        "colab_type": "code",
        "outputId": "77fa133f-8f16-4102-e677-75b91e7d93fb",
        "colab": {
          "base_uri": "https://localhost:8080/",
          "height": 252
        }
      },
      "source": [
        "grouped = frame['rank'].groupby(frame['cluster'])\n",
        "print (\"Average rank (1 to 100) per cluster:\")\n",
        "grouped.mean().to_frame()"
      ],
      "execution_count": 0,
      "outputs": [
        {
          "output_type": "stream",
          "text": [
            "Average rank (1 to 100) per cluster:\n"
          ],
          "name": "stdout"
        },
        {
          "output_type": "execute_result",
          "data": {
            "text/html": [
              "<div>\n",
              "<style scoped>\n",
              "    .dataframe tbody tr th:only-of-type {\n",
              "        vertical-align: middle;\n",
              "    }\n",
              "\n",
              "    .dataframe tbody tr th {\n",
              "        vertical-align: top;\n",
              "    }\n",
              "\n",
              "    .dataframe thead th {\n",
              "        text-align: right;\n",
              "    }\n",
              "</style>\n",
              "<table border=\"1\" class=\"dataframe\">\n",
              "  <thead>\n",
              "    <tr style=\"text-align: right;\">\n",
              "      <th></th>\n",
              "      <th>rank</th>\n",
              "    </tr>\n",
              "    <tr>\n",
              "      <th>cluster</th>\n",
              "      <th></th>\n",
              "    </tr>\n",
              "  </thead>\n",
              "  <tbody>\n",
              "    <tr>\n",
              "      <th>0</th>\n",
              "      <td>64.333333</td>\n",
              "    </tr>\n",
              "    <tr>\n",
              "      <th>1</th>\n",
              "      <td>44.826087</td>\n",
              "    </tr>\n",
              "    <tr>\n",
              "      <th>2</th>\n",
              "      <td>55.239130</td>\n",
              "    </tr>\n",
              "    <tr>\n",
              "      <th>3</th>\n",
              "      <td>39.391304</td>\n",
              "    </tr>\n",
              "    <tr>\n",
              "      <th>4</th>\n",
              "      <td>55.800000</td>\n",
              "    </tr>\n",
              "  </tbody>\n",
              "</table>\n",
              "</div>"
            ],
            "text/plain": [
              "              rank\n",
              "cluster           \n",
              "0        64.333333\n",
              "1        44.826087\n",
              "2        55.239130\n",
              "3        39.391304\n",
              "4        55.800000"
            ]
          },
          "metadata": {
            "tags": []
          },
          "execution_count": 45
        }
      ]
    },
    {
      "cell_type": "code",
      "metadata": {
        "scrolled": false,
        "id": "PEk3P4BTE8VI",
        "colab_type": "code",
        "outputId": "74a093f9-cfbb-43cf-ef60-3f3069289016",
        "colab": {
          "base_uri": "https://localhost:8080/",
          "height": 479
        }
      },
      "source": [
        "print (\"<Document clustering result by K-means>\")\n",
        "\n",
        "# km.cluster_centers_ denotes the importances of each items in centroid.\n",
        "# We need to sort it in decreasing-order and get the top k items.\n",
        "order_centroids = km.cluster_centers_.argsort()[:, ::-1] # argsort(): Returns the indices that would sort an array.\n",
        "# [:] read all values; [::-1] decresaing order in column; [:, ::-1] decreasing order in row\n",
        "print(order_centroids)\n",
        "\n",
        "Cluster_keywords_summary = {}\n",
        "for i in range(num_clusters):\n",
        "    print (\"Cluster \" + str(i) + \" words:\", end='')\n",
        "    Cluster_keywords_summary[i] = []\n",
        "    for ind in order_centroids[i, :6]: # replace 6 with n+1 words per cluster, the first five numbers in row i\n",
        "      Cluster_keywords_summary[i].append(vocab_frame_dict[tf_selected_words[ind]])\n",
        "      print (vocab_frame_dict[tf_selected_words[ind]] + \",\", end='')\n",
        "    print ()\n",
        "    # Here ix means index, which is the clusterID of each item.\n",
        "    # Without tolist, the values result from dataframe is <type 'numpy.ndarray'>\n",
        "    cluster_movies = frame.ix[i]['title'].values.tolist()\n",
        "    print (\"Cluster \" + str(i) + \" titles (\" + str(len(cluster_movies)) + \" movies): \")\n",
        "    print (\", \".join(cluster_movies))\n",
        "    print ()"
      ],
      "execution_count": 0,
      "outputs": [
        {
          "output_type": "stream",
          "text": [
            "<Document clustering result by K-means>\n",
            "[[ 81 514 320 ... 391 392   0]\n",
            " [271 452 337 ... 443 305 536]\n",
            " [ 83 194 327 ... 365 497  81]\n",
            " [192 511  35 ... 492 320 249]\n",
            " [213 268 302 ... 450 167 342]]\n",
            "Cluster 0 words:captain,water,mr.,attempting,set,reaches,\n",
            "Cluster 0 titles (3 movies): \n",
            "The Sound of Music, The African Queen, Mutiny on the Bounty\n",
            "\n",
            "Cluster 1 words:killing,soldiers,office,men,commanded,water,\n",
            "Cluster 1 titles (23 movies): \n",
            "Casablanca, Lawrence of Arabia, On the Waterfront, West Side Story, Star Wars, 2001: A Space Odyssey, Chinatown, The Bridge on the River Kwai, Dr. Strangelove or: How I Learned to Stop Worrying and Love the Bomb, Apocalypse Now, From Here to Eternity, Saving Private Ryan, Raiders of the Lost Ark, Jaws, The Treasure of the Sierra Madre, Platoon, The Deer Hunter, All Quiet on the Western Front, Shane, Stagecoach, The Maltese Falcon, Double Indemnity, The Third Man\n",
            "\n",
            "Cluster 2 words:car,father,new,police,filmed,love,\n",
            "Cluster 2 titles (46 movies): \n",
            "Raging Bull, One Flew Over the Cuckoo's Nest, Citizen Kane, The Godfather: Part II, Psycho, Sunset Blvd., Vertigo, The Silence of the Lambs, Singin' in the Rain, Some Like It Hot, 12 Angry Men, Amadeus, Gandhi, Unforgiven, Rocky, To Kill a Mockingbird, An American in Paris, My Fair Lady, The Good, the Bad and the Ugly, Butch Cassidy and the Sundance Kid, The Apartment, High Noon, The Exorcist, The French Connection, City Lights, It Happened One Night, Midnight Cowboy, Mr. Smith Goes to Washington, Rain Man, Annie Hall, Out of Africa, Good Will Hunting, Tootsie, Fargo, Close Encounters of the Third Kind, Network, Nashville, The Graduate, American Graffiti, Pulp Fiction, A Clockwork Orange, Taxi Driver, Wuthering Heights, Rebel Without a Cause, Rear Window, North by Northwest\n",
            "\n",
            "Cluster 3 words:family,war,army,home,sister,son,\n",
            "Cluster 3 titles (23 movies): \n",
            "The Godfather, The Shawshank Redemption, Schindler's List, Gone with the Wind, The Wizard of Oz, Titanic, Forrest Gump, E.T. the Extra-Terrestrial, The Lord of the Rings: The Return of the King, Gladiator, A Streetcar Named Desire, The Best Years of Our Lives, Ben-Hur, Doctor Zhivago, Patton, Braveheart, Dances with Wolves, The Pianist, Goodfellas, Terms of Endearment, Giant, The Grapes of Wrath, Yankee Doodle Dandy\n",
            "\n",
            "Cluster 4 words:george,john,marries,family,james,executive,\n",
            "Cluster 4 titles (5 movies): \n",
            "It's a Wonderful Life, The Philadelphia Story, The King's Speech, A Place in the Sun, The Green Mile\n",
            "\n"
          ],
          "name": "stdout"
        }
      ]
    },
    {
      "cell_type": "markdown",
      "metadata": {
        "id": "DdpmzonWE8VM",
        "colab_type": "text"
      },
      "source": [
        "## 4.3 Visualize Results using PCA"
      ]
    },
    {
      "cell_type": "code",
      "metadata": {
        "id": "a66VxmlYE8VM",
        "colab_type": "code",
        "colab": {}
      },
      "source": [
        "pca = decomposition.PCA(n_components=2)\n",
        "tfidf_matrix_np=tfidf_matrix.toarray()\n",
        "pca.fit(tfidf_matrix_np)\n",
        "X = pca.transform(tfidf_matrix_np) # X : array-like, shape (n_samples, n_features)\n",
        "\n",
        "xs, ys = X[:, 0], X[:, 1]\n",
        "\n",
        "#set up colors per clusters using a dict\n",
        "cluster_colors = {0: '#1b9e77', 1: '#d95f02', 2: '#7570b3', 3: '#e7298a', 4: '#66a61e'}\n",
        "#set up cluster names using a dict\n",
        "cluster_names = {}\n",
        "for i in range(num_clusters):\n",
        "    cluster_names[i] = \", \".join(Cluster_keywords_summary[i])"
      ],
      "execution_count": 0,
      "outputs": []
    },
    {
      "cell_type": "code",
      "metadata": {
        "scrolled": false,
        "id": "829bBRgEE8VP",
        "colab_type": "code",
        "outputId": "61c20663-8266-47cb-ffda-72c8902b2573",
        "colab": {
          "base_uri": "https://localhost:8080/",
          "height": 537
        }
      },
      "source": [
        "%matplotlib inline \n",
        "\n",
        "#create data frame with PCA cluster results\n",
        "df = pd.DataFrame(dict(x=xs, y=ys, label=clusters, title=titles)) \n",
        "groups = df.groupby(clusters)\n",
        "\n",
        "# set up plot\n",
        "fig, ax = plt.subplots(figsize=(16, 9))\n",
        "#Set color for each cluster/group\n",
        "for name, group in groups:\n",
        "    ax.plot(group.x, group.y, marker='o', linestyle='', ms=12, \n",
        "            label=cluster_names[name], color=cluster_colors[name], \n",
        "            mec='none')\n",
        "\n",
        "ax.legend(numpoints=1,loc=4)  #show legend with only 1 point, position is right bottom.\n",
        "\n",
        "plt.show() #show the plot"
      ],
      "execution_count": 0,
      "outputs": [
        {
          "output_type": "display_data",
          "data": {
            "image/png": "[encoded data removed]",
            "text/plain": [
              "<Figure size 1152x648 with 1 Axes>"
            ]
          },
          "metadata": {
            "tags": []
          }
        }
      ]
    },
    {
      "cell_type": "code",
      "metadata": {
        "id": "InZXGIXhE8VT",
        "colab_type": "code",
        "colab": {}
      },
      "source": [
        "plt.close()"
      ],
      "execution_count": 0,
      "outputs": []
    },
    {
      "cell_type": "markdown",
      "metadata": {
        "id": "oYOZXL53E8VV",
        "colab_type": "text"
      },
      "source": [
        "# Part 5: Topic Modeling: Latent Dirichlet Allocation"
      ]
    },
    {
      "cell_type": "code",
      "metadata": {
        "id": "lBPVbFNFE8VW",
        "colab_type": "code",
        "colab": {}
      },
      "source": [
        "from sklearn.decomposition import LatentDirichletAllocation\n",
        "lda = LatentDirichletAllocation(n_components=5, learning_method = 'online')"
      ],
      "execution_count": 0,
      "outputs": []
    },
    {
      "cell_type": "code",
      "metadata": {
        "id": "L5YYz__7E8VY",
        "colab_type": "code",
        "colab": {}
      },
      "source": [
        "tfidf_matrix_lda = (tfidf_matrix * 100)\n",
        "tfidf_matrix_lda = tfidf_matrix_lda.astype(int)\n",
        "#print(tfidf_matrix_lda[:10])"
      ],
      "execution_count": 0,
      "outputs": []
    },
    {
      "cell_type": "code",
      "metadata": {
        "id": "qIwUNN0ZE8Vb",
        "colab_type": "code",
        "outputId": "087835bf-2b83-4070-fad8-ed4015fe02ff",
        "colab": {
          "base_uri": "https://localhost:8080/",
          "height": 153
        }
      },
      "source": [
        "lda.fit(tfidf_matrix_lda)"
      ],
      "execution_count": 0,
      "outputs": [
        {
          "output_type": "execute_result",
          "data": {
            "text/plain": [
              "LatentDirichletAllocation(batch_size=128, doc_topic_prior=None,\n",
              "                          evaluate_every=-1, learning_decay=0.7,\n",
              "                          learning_method='online', learning_offset=10.0,\n",
              "                          max_doc_update_iter=100, max_iter=10,\n",
              "                          mean_change_tol=0.001, n_components=5, n_jobs=None,\n",
              "                          perp_tol=0.1, random_state=None,\n",
              "                          topic_word_prior=None, total_samples=1000000.0,\n",
              "                          verbose=0)"
            ]
          },
          "metadata": {
            "tags": []
          },
          "execution_count": 53
        }
      ]
    },
    {
      "cell_type": "code",
      "metadata": {
        "scrolled": true,
        "id": "TukTmm7dE8Vd",
        "colab_type": "code",
        "outputId": "f882ab3a-4ea0-4db2-ee56-0f3f18226be3",
        "colab": {
          "base_uri": "https://localhost:8080/",
          "height": 204
        }
      },
      "source": [
        "topic_word = lda.components_\n",
        "print(topic_word.shape)\n",
        "print(topic_word)"
      ],
      "execution_count": 0,
      "outputs": [
        {
          "output_type": "stream",
          "text": [
            "(5, 538)\n",
            "[[ 19.25226098  16.97058204  19.21684731 ...  36.3347442   24.08948027\n",
            "   42.04843734]\n",
            " [ 11.21274549   6.60469054  12.44182322 ...  31.37603264  24.89437529\n",
            "   38.68317456]\n",
            " [ 27.12405796  24.92054214  18.77436811 ...  40.77314568  21.16848904\n",
            "   27.35205082]\n",
            " [  9.16754158  43.96322247  25.88203093 ...  75.11670916 136.01782681\n",
            "   55.14353112]\n",
            " [  6.56519415   3.34767749   9.07201172 ...  25.55097953  23.86355501\n",
            "   21.75454514]]\n"
          ],
          "name": "stdout"
        }
      ]
    },
    {
      "cell_type": "code",
      "metadata": {
        "id": "4Hs012V-E8Vg",
        "colab_type": "code",
        "outputId": "ebc96bb0-9f78-4bb4-827e-9a77bdc9fcbb",
        "colab": {
          "base_uri": "https://localhost:8080/",
          "height": 102
        }
      },
      "source": [
        "n_top_words = 7\n",
        "topic_keywords_list = []\n",
        "for i, topic_dist in enumerate(topic_word):\n",
        "    # here we select top(n_top_words-1)\n",
        "    lda_topic_words = np.array(tf_selected_words)[np.argsort(topic_dist)][:-n_top_words:-1]\n",
        "    print(lda_topic_words)\n",
        "    for j in range(len(lda_topic_words)):\n",
        "        lda_topic_words[j] = vocab_frame_dict[lda_topic_words[j]]\n",
        "    topic_keywords_list.append(lda_topic_words.tolist())\n",
        "#print(topic_keywords_list)"
      ],
      "execution_count": 0,
      "outputs": [
        {
          "output_type": "stream",
          "text": [
            "['car' 'john' 'polic' 'prison' 'mother' 'hous']\n",
            "['train' 'kill' 'polic' 'water' 'arriv' 'camp']\n",
            "['war' 'general' 'armi' 'love' 'men' 'apart']\n",
            "['georg' 'famili' 'brother' 'father' 'captain' 'new']\n",
            "['home' 'kill' 'love' 'arriv' 'group' 'away']\n"
          ],
          "name": "stdout"
        }
      ]
    },
    {
      "cell_type": "code",
      "metadata": {
        "id": "BuSg4tbSE8Vh",
        "colab_type": "code",
        "outputId": "f00c30b5-e417-4652-87d2-6db714bddb75",
        "colab": {
          "base_uri": "https://localhost:8080/",
          "height": 34
        }
      },
      "source": [
        "doc_topic = lda.transform(tfidf_matrix_lda)\n",
        "print (doc_topic.shape)"
      ],
      "execution_count": 0,
      "outputs": [
        {
          "output_type": "stream",
          "text": [
            "(100, 5)\n"
          ],
          "name": "stdout"
        }
      ]
    },
    {
      "cell_type": "code",
      "metadata": {
        "id": "paiC0DU-E8Vj",
        "colab_type": "code",
        "outputId": "fc0f3c28-b72d-4388-d6d8-65c3ec21bf1f",
        "colab": {
          "base_uri": "https://localhost:8080/",
          "height": 394
        }
      },
      "source": [
        "topic_doc_dict = {}\n",
        "print (\"<Document clustering result by LDA>\")\n",
        "for i in range(len(doc_topic)):\n",
        "    topicID = doc_topic[i].argmax()\n",
        "    if topicID not in topic_doc_dict:\n",
        "        topic_doc_dict[topicID] = [titles[i]]\n",
        "    else:\n",
        "        topic_doc_dict[topicID].append(titles[i])\n",
        "for i in topic_doc_dict:\n",
        "    print (\"Cluster \" + str(i) + \" words: \" + \", \".join(topic_keywords_list[i]))\n",
        "    print (\"Cluster \" + str(i) + \" titles (\" + str(len(topic_doc_dict[i])) + \" movies): \")\n",
        "    print (', '.join(topic_doc_dict[i]))\n",
        "    print ()"
      ],
      "execution_count": 0,
      "outputs": [
        {
          "output_type": "stream",
          "text": [
            "<Document clustering result by LDA>\n",
            "Cluster 3 words: george, family, brother, father, captain, new\n",
            "Cluster 3 titles (25 movies): \n",
            "The Godfather, Raging Bull, Casablanca, Citizen Kane, The Godfather: Part II, On the Waterfront, The Sound of Music, It's a Wonderful Life, Gladiator, From Here to Eternity, Saving Private Ryan, The Philadelphia Story, Ben-Hur, Braveheart, Dances with Wolves, The Pianist, Goodfellas, City Lights, The King's Speech, A Place in the Sun, Midnight Cowboy, Rain Man, Annie Hall, Good Will Hunting, The African Queen\n",
            "\n",
            "Cluster 0 words: car, john, police, prison, mother, house\n",
            "Cluster 0 titles (22 movies): \n",
            "The Shawshank Redemption, Titanic, Psycho, Sunset Blvd., Vertigo, 2001: A Space Odyssey, The Silence of the Lambs, Some Like It Hot, 12 Angry Men, The Exorcist, The French Connection, Mr. Smith Goes to Washington, Fargo, The Green Mile, Close Encounters of the Third Kind, The Graduate, American Graffiti, Pulp Fiction, A Clockwork Orange, Rear Window, The Third Man, North by Northwest\n",
            "\n",
            "Cluster 1 words: train, killing, police, water, arrive, camping\n",
            "Cluster 1 titles (19 movies): \n",
            "Schindler's List, Star Wars, Chinatown, The Bridge on the River Kwai, Gandhi, Raiders of the Lost Ark, To Kill a Mockingbird, My Fair Lady, Doctor Zhivago, Jaws, Butch Cassidy and the Sundance Kid, High Noon, All Quiet on the Western Front, Terms of Endearment, The Grapes of Wrath, Mutiny on the Bounty, The Maltese Falcon, Double Indemnity, Rebel Without a Cause\n",
            "\n",
            "Cluster 4 words: home, killing, love, arrive, group, away\n",
            "Cluster 4 titles (13 movies): \n",
            "One Flew Over the Cuckoo's Nest, Gone with the Wind, The Wizard of Oz, West Side Story, E.T. the Extra-Terrestrial, Amadeus, The Lord of the Rings: The Return of the King, The Treasure of the Sierra Madre, Platoon, It Happened One Night, Stagecoach, Taxi Driver, Wuthering Heights\n",
            "\n",
            "Cluster 2 words: war, general, army, love, men, apartment\n",
            "Cluster 2 titles (21 movies): \n",
            "Lawrence of Arabia, Forrest Gump, Singin' in the Rain, Dr. Strangelove or: How I Learned to Stop Worrying and Love the Bomb, Apocalypse Now, Unforgiven, Rocky, A Streetcar Named Desire, An American in Paris, The Best Years of Our Lives, Patton, The Good, the Bad and the Ugly, The Apartment, The Deer Hunter, Out of Africa, Tootsie, Giant, Shane, Network, Nashville, Yankee Doodle Dandy\n",
            "\n"
          ],
          "name": "stdout"
        }
      ]
    },
    {
      "cell_type": "markdown",
      "metadata": {
        "collapsed": true,
        "id": "NGq6OKlQE8Vl",
        "colab_type": "text"
      },
      "source": [
        "# Appendix:"
      ]
    },
    {
      "cell_type": "markdown",
      "metadata": {
        "id": "55MIXJRp8RI0",
        "colab_type": "text"
      },
      "source": [
        "### K-means"
      ]
    },
    {
      "cell_type": "code",
      "metadata": {
        "id": "2i3f5eEeE8Vm",
        "colab_type": "code",
        "outputId": "4996c342-85f3-4efe-e57d-5504d4b55501",
        "colab": {
          "base_uri": "https://localhost:8080/",
          "height": 265
        }
      },
      "source": [
        "from sklearn.datasets.samples_generator import make_blobs\n",
        "X, y = make_blobs(n_samples=300, centers=4,\n",
        "                  random_state=0, cluster_std=0.60)\n",
        "plt.scatter(X[:, 0], X[:, 1], s=50);"
      ],
      "execution_count": 0,
      "outputs": [
        {
          "output_type": "display_data",
          "data": {
            "image/png": "[encoded data removed]",
            "text/plain": [
              "<Figure size 432x288 with 1 Axes>"
            ]
          },
          "metadata": {
            "tags": []
          }
        }
      ]
    },
    {
      "cell_type": "code",
      "metadata": {
        "scrolled": true,
        "id": "47Wx7q_ME8Vp",
        "colab_type": "code",
        "outputId": "cdf8f909-9e77-4c36-90f1-bb55ebfc2eb1",
        "colab": {
          "base_uri": "https://localhost:8080/",
          "height": 265
        }
      },
      "source": [
        "from sklearn.cluster import KMeans\n",
        "est = KMeans(4)  # 4 clusters\n",
        "est.fit(X)\n",
        "y_kmeans = est.predict(X)\n",
        "plt.scatter(X[:, 0], X[:, 1], c=y_kmeans, s=50);"
      ],
      "execution_count": 0,
      "outputs": [
        {
          "output_type": "display_data",
          "data": {
            "image/png": "[encoded data removed]",
            "text/plain": [
              "<Figure size 432x288 with 1 Axes>"
            ]
          },
          "metadata": {
            "tags": []
          }
        }
      ]
    },
    {
      "cell_type": "markdown",
      "metadata": {
        "id": "mcMsTE4PffSt",
        "colab_type": "text"
      },
      "source": [
        "### Test"
      ]
    },
    {
      "cell_type": "code",
      "metadata": {
        "id": "gCj_VwfkfjGP",
        "colab_type": "code",
        "colab": {}
      },
      "source": [
        "test = 'It would be to our benefit to remove stopwords during the pre-processing phase.'"
      ],
      "execution_count": 0,
      "outputs": []
    },
    {
      "cell_type": "code",
      "metadata": {
        "id": "AH2rmpCugCCI",
        "colab_type": "code",
        "outputId": "21938234-07e4-469a-a816-5146a8e637db",
        "colab": {
          "base_uri": "https://localhost:8080/",
          "height": 34
        }
      },
      "source": [
        "# tokenization\n",
        "test_list = nltk.word_tokenize(test)\n",
        "print(test_list)"
      ],
      "execution_count": 0,
      "outputs": [
        {
          "output_type": "stream",
          "text": [
            "['It', 'would', 'be', 'to', 'our', 'benefit', 'to', 'remove', 'stopwords', 'during', 'the', 'pre-processing', 'phase', '.']\n"
          ],
          "name": "stdout"
        }
      ]
    },
    {
      "cell_type": "code",
      "metadata": {
        "id": "qfi0sBNlgNvg",
        "colab_type": "code",
        "outputId": "9fdb74a9-8116-4d75-da2b-c25e9a37f315",
        "colab": {
          "base_uri": "https://localhost:8080/",
          "height": 51
        }
      },
      "source": [
        "# stopword removal\n",
        "stopwords = nltk.corpus.stopwords.words('english')\n",
        "print(len(stopwords))\n",
        "test_list_cleaned = [word for word in test_list if word.lower() not in stopwords]\n",
        "print(test_list_cleaned)"
      ],
      "execution_count": 0,
      "outputs": [
        {
          "output_type": "stream",
          "text": [
            "179\n",
            "['would', 'benefit', 'remove', 'stopwords', 'pre-processing', 'phase', '.']\n"
          ],
          "name": "stdout"
        }
      ]
    },
    {
      "cell_type": "code",
      "metadata": {
        "id": "yLJj2Ucdgn4Q",
        "colab_type": "code",
        "outputId": "68d46f47-f9de-4224-809b-4cd0a32c4ac8",
        "colab": {
          "base_uri": "https://localhost:8080/",
          "height": 51
        }
      },
      "source": [
        "# stemming and lemmatization\n",
        "stemmer = nltk.stem.PorterStemmer()\n",
        "a = [stemmer.stem(i) for i in test_list_cleaned]\n",
        "print(a)\n",
        "#lemm = WordNetLemmatizer()\n",
        "#b = [lemm.lemmatize(i) for i in test_list_cleaned]\n",
        "#print(b)\n",
        "print(\"The stemmed form of running is: {}\".format(stemmer.stem(\"leaves\"))) # -> leav\n",
        "#print(\"The lemmatized form of leaves is: {}\".format(lemm.lemmatize(\"leaves\"))) # -> leaf"
      ],
      "execution_count": 0,
      "outputs": [
        {
          "output_type": "stream",
          "text": [
            "['would', 'benefit', 'remov', 'stopword', 'pre-process', 'phase', '.']\n",
            "The stemmed form of running is: leav\n"
          ],
          "name": "stdout"
        }
      ]
    },
    {
      "cell_type": "code",
      "metadata": {
        "id": "pjYTPo8LkmBD",
        "colab_type": "code",
        "outputId": "78728525-fddf-4616-b178-52d853f47ba0",
        "colab": {
          "base_uri": "https://localhost:8080/",
          "height": 153
        }
      },
      "source": [
        "# vectorization\n",
        "from sklearn.feature_extraction.text import CountVectorizer\n",
        "sentence = [\"I love to eat Burgers\", \n",
        "            \"I love to eat Fries\"]\n",
        "vectorizer = CountVectorizer(min_df=0)\n",
        "sentence_transform = vectorizer.fit_transform(sentence)\n",
        "print(\"The features are:\\n {}\".format(vectorizer.get_feature_names()))\n",
        "print(\"\\nThe vectorized array looks like:\\n {}\".format(sentence_transform.toarray()))\n",
        "sentence_transform"
      ],
      "execution_count": 0,
      "outputs": [
        {
          "output_type": "stream",
          "text": [
            "The features are:\n",
            " ['burgers', 'eat', 'fries', 'love', 'to']\n",
            "\n",
            "The vectorized array looks like:\n",
            " [[1 1 0 1 1]\n",
            " [0 1 1 1 1]]\n"
          ],
          "name": "stdout"
        },
        {
          "output_type": "execute_result",
          "data": {
            "text/plain": [
              "<2x5 sparse matrix of type '<class 'numpy.int64'>'\n",
              "\twith 8 stored elements in Compressed Sparse Row format>"
            ]
          },
          "metadata": {
            "tags": []
          },
          "execution_count": 72
        }
      ]
    }
  ]
}